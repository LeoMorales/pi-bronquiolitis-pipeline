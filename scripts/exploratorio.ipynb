{
 "cells": [
  {
   "cell_type": "code",
   "execution_count": 4,
   "id": "856b64e2",
   "metadata": {},
   "outputs": [],
   "source": [
    "import pandas\n",
    "import geopandas"
   ]
  },
  {
   "cell_type": "code",
   "execution_count": 5,
   "id": "8e89afcc",
   "metadata": {},
   "outputs": [],
   "source": [
    "df = geopandas.read_parquet(\"../_products/get/bronchiolitis_points.parquet\")"
   ]
  },
  {
   "cell_type": "code",
   "execution_count": 6,
   "id": "47b95b85",
   "metadata": {},
   "outputs": [
    {
     "data": {
      "text/html": [
       "<div>\n",
       "<style scoped>\n",
       "    .dataframe tbody tr th:only-of-type {\n",
       "        vertical-align: middle;\n",
       "    }\n",
       "\n",
       "    .dataframe tbody tr th {\n",
       "        vertical-align: top;\n",
       "    }\n",
       "\n",
       "    .dataframe thead th {\n",
       "        text-align: right;\n",
       "    }\n",
       "</style>\n",
       "<table border=\"1\" class=\"dataframe\">\n",
       "  <thead>\n",
       "    <tr style=\"text-align: right;\">\n",
       "      <th></th>\n",
       "      <th>hc</th>\n",
       "      <th>ingreso</th>\n",
       "      <th>egreso</th>\n",
       "      <th>se</th>\n",
       "      <th>edad</th>\n",
       "      <th>domicilio_definitivo</th>\n",
       "      <th>es_reinternacion</th>\n",
       "      <th>latitud</th>\n",
       "      <th>longitud</th>\n",
       "      <th>geometry</th>\n",
       "    </tr>\n",
       "  </thead>\n",
       "  <tbody>\n",
       "    <tr>\n",
       "      <th>0</th>\n",
       "      <td>143367</td>\n",
       "      <td>2017-01-06</td>\n",
       "      <td>2017-01-09</td>\n",
       "      <td>1.0</td>\n",
       "      <td>0.63</td>\n",
       "      <td>Manuel Castro 1230</td>\n",
       "      <td>False</td>\n",
       "      <td>-42.759311</td>\n",
       "      <td>-65.055118</td>\n",
       "      <td>POINT (-65.05512 -42.75931)</td>\n",
       "    </tr>\n",
       "    <tr>\n",
       "      <th>1</th>\n",
       "      <td>143597</td>\n",
       "      <td>2017-01-19</td>\n",
       "      <td>2017-01-21</td>\n",
       "      <td>3.0</td>\n",
       "      <td>0.70</td>\n",
       "      <td>Cholila 1311</td>\n",
       "      <td>False</td>\n",
       "      <td>-42.760486</td>\n",
       "      <td>-65.057645</td>\n",
       "      <td>POINT (-65.05765 -42.76049)</td>\n",
       "    </tr>\n",
       "    <tr>\n",
       "      <th>2</th>\n",
       "      <td>144173</td>\n",
       "      <td>2017-02-22</td>\n",
       "      <td>2017-02-23</td>\n",
       "      <td>8.0</td>\n",
       "      <td>0.33</td>\n",
       "      <td>Luis Federico Leloir 820</td>\n",
       "      <td>False</td>\n",
       "      <td>-42.786004</td>\n",
       "      <td>-65.071097</td>\n",
       "      <td>POINT (-65.07110 -42.78600)</td>\n",
       "    </tr>\n",
       "    <tr>\n",
       "      <th>3</th>\n",
       "      <td>144546</td>\n",
       "      <td>2017-03-27</td>\n",
       "      <td>2017-04-01</td>\n",
       "      <td>13.0</td>\n",
       "      <td>4.00</td>\n",
       "      <td>Mitre 41</td>\n",
       "      <td>False</td>\n",
       "      <td>-42.765109</td>\n",
       "      <td>-65.037430</td>\n",
       "      <td>POINT (-65.03743 -42.76511)</td>\n",
       "    </tr>\n",
       "    <tr>\n",
       "      <th>4</th>\n",
       "      <td>144189</td>\n",
       "      <td>2017-03-29</td>\n",
       "      <td>2017-04-01</td>\n",
       "      <td>13.0</td>\n",
       "      <td>1.00</td>\n",
       "      <td>El Hoyo 1310</td>\n",
       "      <td>False</td>\n",
       "      <td>-42.758420</td>\n",
       "      <td>-65.062481</td>\n",
       "      <td>POINT (-65.06248 -42.75842)</td>\n",
       "    </tr>\n",
       "  </tbody>\n",
       "</table>\n",
       "</div>"
      ],
      "text/plain": [
       "       hc     ingreso      egreso    se  edad      domicilio_definitivo  \\\n",
       "0  143367  2017-01-06  2017-01-09   1.0  0.63        Manuel Castro 1230   \n",
       "1  143597  2017-01-19  2017-01-21   3.0  0.70              Cholila 1311   \n",
       "2  144173  2017-02-22  2017-02-23   8.0  0.33  Luis Federico Leloir 820   \n",
       "3  144546  2017-03-27  2017-04-01  13.0  4.00                  Mitre 41   \n",
       "4  144189  2017-03-29  2017-04-01  13.0  1.00              El Hoyo 1310   \n",
       "\n",
       "   es_reinternacion    latitud   longitud                     geometry  \n",
       "0             False -42.759311 -65.055118  POINT (-65.05512 -42.75931)  \n",
       "1             False -42.760486 -65.057645  POINT (-65.05765 -42.76049)  \n",
       "2             False -42.786004 -65.071097  POINT (-65.07110 -42.78600)  \n",
       "3             False -42.765109 -65.037430  POINT (-65.03743 -42.76511)  \n",
       "4             False -42.758420 -65.062481  POINT (-65.06248 -42.75842)  "
      ]
     },
     "execution_count": 6,
     "metadata": {},
     "output_type": "execute_result"
    }
   ],
   "source": [
    "df.head()"
   ]
  },
  {
   "cell_type": "code",
   "execution_count": 7,
   "id": "a0f762a1",
   "metadata": {},
   "outputs": [
    {
     "data": {
      "text/plain": [
       "114"
      ]
     },
     "execution_count": 7,
     "metadata": {},
     "output_type": "execute_result"
    }
   ],
   "source": [
    "len(df)"
   ]
  },
  {
   "cell_type": "code",
   "execution_count": 8,
   "id": "260caddc",
   "metadata": {},
   "outputs": [
    {
     "data": {
      "text/plain": [
       "<AxesSubplot:>"
      ]
     },
     "execution_count": 8,
     "metadata": {},
     "output_type": "execute_result"
    },
    {
     "data": {
      "image/png": "[encoded data removed]",
      "text/plain": [
       "<Figure size 432x288 with 1 Axes>"
      ]
     },
     "metadata": {
      "needs_background": "light"
     },
     "output_type": "display_data"
    }
   ],
   "source": [
    "df.plot()"
   ]
  },
  {
   "cell_type": "code",
   "execution_count": null,
   "id": "e0b30536",
   "metadata": {},
   "outputs": [],
   "source": []
  },
  {
   "cell_type": "code",
   "execution_count": 9,
   "id": "de48b75f",
   "metadata": {},
   "outputs": [],
   "source": [
    "root_path = '/home/lmorales/work/pipelines/pi-bronquiolitis'\n",
    "bronchiolitis_cases_file_path = '/input-data/IRAB O2 2017 18 19 20 O31.csv'\n",
    "adresses_file_path = '/input-data/domicilio_lat_long_corregido.csv'"
   ]
  },
  {
   "cell_type": "code",
   "execution_count": 11,
   "id": "d942a35b",
   "metadata": {},
   "outputs": [],
   "source": [
    "df_casos = pandas.read_csv(f\"{root_path}/{bronchiolitis_cases_file_path}\")"
   ]
  },
  {
   "cell_type": "code",
   "execution_count": 12,
   "id": "1a455f68",
   "metadata": {},
   "outputs": [],
   "source": [
    "df_domicilios = pandas.read_csv(f\"{root_path}/{adresses_file_path}\")"
   ]
  },
  {
   "cell_type": "code",
   "execution_count": 13,
   "id": "c539ba5c",
   "metadata": {},
   "outputs": [
    {
     "data": {
      "text/html": [
       "<div>\n",
       "<style scoped>\n",
       "    .dataframe tbody tr th:only-of-type {\n",
       "        vertical-align: middle;\n",
       "    }\n",
       "\n",
       "    .dataframe tbody tr th {\n",
       "        vertical-align: top;\n",
       "    }\n",
       "\n",
       "    .dataframe thead th {\n",
       "        text-align: right;\n",
       "    }\n",
       "</style>\n",
       "<table border=\"1\" class=\"dataframe\">\n",
       "  <thead>\n",
       "    <tr style=\"text-align: right;\">\n",
       "      <th></th>\n",
       "      <th>HC</th>\n",
       "      <th>FN</th>\n",
       "      <th>MESES</th>\n",
       "      <th>Edad</th>\n",
       "      <th>Vaginal</th>\n",
       "      <th>Cesarea</th>\n",
       "      <th>Sexo</th>\n",
       "      <th>SE</th>\n",
       "      <th>INGRESO</th>\n",
       "      <th>EGRESO</th>\n",
       "      <th>...</th>\n",
       "      <th>Virus</th>\n",
       "      <th>Domicilio</th>\n",
       "      <th>ALTERNATIVA</th>\n",
       "      <th>Domicilio definitivo</th>\n",
       "      <th>Unnamed: 17</th>\n",
       "      <th>Barrio</th>\n",
       "      <th>Circunscripción</th>\n",
       "      <th>Sector</th>\n",
       "      <th>Unnamed: 21</th>\n",
       "      <th>Nombre del Barrio</th>\n",
       "    </tr>\n",
       "  </thead>\n",
       "  <tbody>\n",
       "    <tr>\n",
       "      <th>0</th>\n",
       "      <td>143367</td>\n",
       "      <td>2016-12-18</td>\n",
       "      <td>19 días</td>\n",
       "      <td>0.63</td>\n",
       "      <td>NaN</td>\n",
       "      <td>NaN</td>\n",
       "      <td>NaN</td>\n",
       "      <td>1.0</td>\n",
       "      <td>2017-01-06</td>\n",
       "      <td>2017-01-09</td>\n",
       "      <td>...</td>\n",
       "      <td>NE</td>\n",
       "      <td>B° Comercio IV casa 3</td>\n",
       "      <td>Manuel Castro 1230</td>\n",
       "      <td>Manuel Castro 1230</td>\n",
       "      <td>NaN</td>\n",
       "      <td>N27</td>\n",
       "      <td>1.0</td>\n",
       "      <td>10.0</td>\n",
       "      <td>NaN</td>\n",
       "      <td>SEC</td>\n",
       "    </tr>\n",
       "    <tr>\n",
       "      <th>1</th>\n",
       "      <td>143597</td>\n",
       "      <td>2016-12-29</td>\n",
       "      <td>21 días</td>\n",
       "      <td>0.70</td>\n",
       "      <td>NaN</td>\n",
       "      <td>NaN</td>\n",
       "      <td>NaN</td>\n",
       "      <td>3.0</td>\n",
       "      <td>2017-01-19</td>\n",
       "      <td>2017-01-21</td>\n",
       "      <td>...</td>\n",
       "      <td>NE</td>\n",
       "      <td>Cholila 1311</td>\n",
       "      <td>Rada Tilly 1310</td>\n",
       "      <td>Cholila 1311</td>\n",
       "      <td>NaN</td>\n",
       "      <td>N18</td>\n",
       "      <td>1.0</td>\n",
       "      <td>12.0</td>\n",
       "      <td>NaN</td>\n",
       "      <td>Pujol</td>\n",
       "    </tr>\n",
       "    <tr>\n",
       "      <th>2</th>\n",
       "      <td>144173</td>\n",
       "      <td>2017-02-10</td>\n",
       "      <td>10 días</td>\n",
       "      <td>0.33</td>\n",
       "      <td>NaN</td>\n",
       "      <td>NaN</td>\n",
       "      <td>NaN</td>\n",
       "      <td>8.0</td>\n",
       "      <td>2017-02-22</td>\n",
       "      <td>2017-02-23</td>\n",
       "      <td>...</td>\n",
       "      <td>NE</td>\n",
       "      <td>B Pte. Perón M461 L25</td>\n",
       "      <td>Luis Federico Leloir 820</td>\n",
       "      <td>Luis Federico Leloir 820</td>\n",
       "      <td>NaN</td>\n",
       "      <td>O35</td>\n",
       "      <td>3.0</td>\n",
       "      <td>7.0</td>\n",
       "      <td>NaN</td>\n",
       "      <td>Pte. Perón</td>\n",
       "    </tr>\n",
       "    <tr>\n",
       "      <th>3</th>\n",
       "      <td>144546</td>\n",
       "      <td>2016-11-14</td>\n",
       "      <td>4</td>\n",
       "      <td>4.00</td>\n",
       "      <td>NaN</td>\n",
       "      <td>NaN</td>\n",
       "      <td>NaN</td>\n",
       "      <td>13.0</td>\n",
       "      <td>2017-03-27</td>\n",
       "      <td>2017-04-01</td>\n",
       "      <td>...</td>\n",
       "      <td>NE</td>\n",
       "      <td>Mitre 41 Dpto 6</td>\n",
       "      <td>NaN</td>\n",
       "      <td>Mitre 41</td>\n",
       "      <td>NaN</td>\n",
       "      <td>E9</td>\n",
       "      <td>1.0</td>\n",
       "      <td>7.0</td>\n",
       "      <td>NaN</td>\n",
       "      <td>Parry Madryn</td>\n",
       "    </tr>\n",
       "    <tr>\n",
       "      <th>4</th>\n",
       "      <td>144189</td>\n",
       "      <td>2017-02-18</td>\n",
       "      <td>1</td>\n",
       "      <td>1.00</td>\n",
       "      <td>NaN</td>\n",
       "      <td>NaN</td>\n",
       "      <td>NaN</td>\n",
       "      <td>13.0</td>\n",
       "      <td>2017-03-29</td>\n",
       "      <td>2017-04-01</td>\n",
       "      <td>...</td>\n",
       "      <td>NE</td>\n",
       "      <td>Che Guevara 1628</td>\n",
       "      <td>El Hoyo 1310</td>\n",
       "      <td>El Hoyo 1310</td>\n",
       "      <td>NaN</td>\n",
       "      <td>N18</td>\n",
       "      <td>1.0</td>\n",
       "      <td>12.0</td>\n",
       "      <td>NaN</td>\n",
       "      <td>Pujol</td>\n",
       "    </tr>\n",
       "  </tbody>\n",
       "</table>\n",
       "<p>5 rows × 23 columns</p>\n",
       "</div>"
      ],
      "text/plain": [
       "       HC          FN    MESES  Edad  Vaginal  Cesarea  Sexo    SE  \\\n",
       "0  143367  2016-12-18  19 días  0.63      NaN      NaN   NaN   1.0   \n",
       "1  143597  2016-12-29  21 días  0.70      NaN      NaN   NaN   3.0   \n",
       "2  144173  2017-02-10  10 días  0.33      NaN      NaN   NaN   8.0   \n",
       "3  144546  2016-11-14        4  4.00      NaN      NaN   NaN  13.0   \n",
       "4  144189  2017-02-18        1  1.00      NaN      NaN   NaN  13.0   \n",
       "\n",
       "      INGRESO      EGRESO  ...  Virus              Domicilio  \\\n",
       "0  2017-01-06  2017-01-09  ...     NE  B° Comercio IV casa 3   \n",
       "1  2017-01-19  2017-01-21  ...     NE           Cholila 1311   \n",
       "2  2017-02-22  2017-02-23  ...     NE  B Pte. Perón M461 L25   \n",
       "3  2017-03-27  2017-04-01  ...     NE        Mitre 41 Dpto 6   \n",
       "4  2017-03-29  2017-04-01  ...     NE       Che Guevara 1628   \n",
       "\n",
       "                ALTERNATIVA      Domicilio definitivo Unnamed: 17 Barrio  \\\n",
       "0        Manuel Castro 1230        Manuel Castro 1230         NaN    N27   \n",
       "1           Rada Tilly 1310              Cholila 1311         NaN    N18   \n",
       "2  Luis Federico Leloir 820  Luis Federico Leloir 820         NaN    O35   \n",
       "3                       NaN                  Mitre 41         NaN     E9   \n",
       "4              El Hoyo 1310              El Hoyo 1310         NaN    N18   \n",
       "\n",
       "  Circunscripción  Sector Unnamed: 21  Nombre del Barrio  \n",
       "0             1.0    10.0         NaN                SEC  \n",
       "1             1.0    12.0         NaN              Pujol  \n",
       "2             3.0     7.0         NaN         Pte. Perón  \n",
       "3             1.0     7.0         NaN       Parry Madryn  \n",
       "4             1.0    12.0         NaN              Pujol  \n",
       "\n",
       "[5 rows x 23 columns]"
      ]
     },
     "execution_count": 13,
     "metadata": {},
     "output_type": "execute_result"
    }
   ],
   "source": [
    "df_casos.head()"
   ]
  },
  {
   "cell_type": "code",
   "execution_count": 14,
   "id": "c5bc7f8f",
   "metadata": {},
   "outputs": [
    {
     "data": {
      "text/html": [
       "<div>\n",
       "<style scoped>\n",
       "    .dataframe tbody tr th:only-of-type {\n",
       "        vertical-align: middle;\n",
       "    }\n",
       "\n",
       "    .dataframe tbody tr th {\n",
       "        vertical-align: top;\n",
       "    }\n",
       "\n",
       "    .dataframe thead th {\n",
       "        text-align: right;\n",
       "    }\n",
       "</style>\n",
       "<table border=\"1\" class=\"dataframe\">\n",
       "  <thead>\n",
       "    <tr style=\"text-align: right;\">\n",
       "      <th></th>\n",
       "      <th>Domicilio definitivo</th>\n",
       "      <th>Latitud</th>\n",
       "      <th>Longitud</th>\n",
       "    </tr>\n",
       "  </thead>\n",
       "  <tbody>\n",
       "    <tr>\n",
       "      <th>0</th>\n",
       "      <td>Manuel Castro 1230</td>\n",
       "      <td>-42.759311</td>\n",
       "      <td>-65.055118</td>\n",
       "    </tr>\n",
       "    <tr>\n",
       "      <th>1</th>\n",
       "      <td>Cholila 1311</td>\n",
       "      <td>-42.760486</td>\n",
       "      <td>-65.057645</td>\n",
       "    </tr>\n",
       "    <tr>\n",
       "      <th>2</th>\n",
       "      <td>Luis Federico Leloir 820</td>\n",
       "      <td>-42.786004</td>\n",
       "      <td>-65.071097</td>\n",
       "    </tr>\n",
       "    <tr>\n",
       "      <th>3</th>\n",
       "      <td>Mitre 41</td>\n",
       "      <td>-42.765109</td>\n",
       "      <td>-65.037430</td>\n",
       "    </tr>\n",
       "    <tr>\n",
       "      <th>4</th>\n",
       "      <td>El Hoyo 1310</td>\n",
       "      <td>-42.758420</td>\n",
       "      <td>-65.062481</td>\n",
       "    </tr>\n",
       "  </tbody>\n",
       "</table>\n",
       "</div>"
      ],
      "text/plain": [
       "       Domicilio definitivo    Latitud   Longitud\n",
       "0        Manuel Castro 1230 -42.759311 -65.055118\n",
       "1              Cholila 1311 -42.760486 -65.057645\n",
       "2  Luis Federico Leloir 820 -42.786004 -65.071097\n",
       "3                  Mitre 41 -42.765109 -65.037430\n",
       "4              El Hoyo 1310 -42.758420 -65.062481"
      ]
     },
     "execution_count": 14,
     "metadata": {},
     "output_type": "execute_result"
    }
   ],
   "source": [
    "df_domicilios.head()"
   ]
  },
  {
   "cell_type": "code",
   "execution_count": 15,
   "id": "9e165ed6",
   "metadata": {},
   "outputs": [],
   "source": [
    "df_cols = ['HC', 'INGRESO', 'EGRESO', 'SE', 'Edad', 'Domicilio definitivo']\n",
    "df = df_casos[df_cols]\n",
    "\n",
    "## eliminar aquellos que no tienen numero de historia clinica:\n",
    "df = df.dropna(subset=['HC'])\n",
    "## primero ordenamos por fecha de ingreso\n",
    "df = df.sort_values(by='INGRESO')\n",
    "## después de ordenar, si se repite el nro de historia clinica, es reinternación:\n",
    "df['es_reinternacion'] = df['HC'].duplicated()\n",
    "df.columns = df.columns.str.lower().str.replace(' ', '_')\n",
    "\n",
    "df = df.reset_index(drop=True)\n",
    "\n",
    "\n",
    "## rename columns (lowercase):\n",
    "df_domicilios = df_domicilios.rename(\n",
    "    columns={\n",
    "        column: column.lower().replace(' ', '_')\n",
    "        for column\n",
    "        in df_domicilios.columns\n",
    "    }\n",
    ")\n",
    "\n",
    "## sort from north to south, east to west:\n",
    "LAT_COLUMN = 'latitud'\n",
    "LNG_COLUMN = 'longitud'\n",
    "sorted_index_values = (df_domicilios[LAT_COLUMN] ** 2 + df_domicilios[LNG_COLUMN] **2).sort_values().index\n",
    "df_domicilios = df_domicilios.iloc[sorted_index_values]\n",
    "\n",
    "## delete duplicates:\n",
    "df_domicilios = df_domicilios.drop_duplicates()\n",
    "df_domicilios = df_domicilios.reset_index(drop=True)"
   ]
  },
  {
   "cell_type": "code",
   "execution_count": 16,
   "id": "0f040c82",
   "metadata": {},
   "outputs": [],
   "source": [
    "#\n",
    "# C: Combine\n",
    "output_df = pandas.merge(\n",
    "    df,\n",
    "    df_domicilios,\n",
    "    on='domicilio_definitivo',\n",
    ")"
   ]
  },
  {
   "cell_type": "code",
   "execution_count": 18,
   "id": "a665a0c4",
   "metadata": {},
   "outputs": [
    {
     "data": {
      "text/plain": [
       "114"
      ]
     },
     "execution_count": 18,
     "metadata": {},
     "output_type": "execute_result"
    }
   ],
   "source": [
    "len(output_df)"
   ]
  },
  {
   "cell_type": "code",
   "execution_count": 24,
   "id": "aabb19f0",
   "metadata": {},
   "outputs": [
    {
     "data": {
      "text/plain": [
       "14"
      ]
     },
     "execution_count": 24,
     "metadata": {},
     "output_type": "execute_result"
    }
   ],
   "source": [
    "len(output_df[output_df['hc'].duplicated()])"
   ]
  },
  {
   "cell_type": "code",
   "execution_count": 23,
   "id": "5df2afe7",
   "metadata": {},
   "outputs": [
    {
     "data": {
      "text/plain": [
       "14"
      ]
     },
     "execution_count": 23,
     "metadata": {},
     "output_type": "execute_result"
    }
   ],
   "source": [
    "len(output_df[output_df['hc'].duplicated()]['hc'].unique())"
   ]
  },
  {
   "cell_type": "code",
   "execution_count": 25,
   "id": "b9f8348c",
   "metadata": {},
   "outputs": [],
   "source": [
    "hcs_reinternaciones = [\n",
    "    \"143314-1\",\n",
    "    \"144266-5\",\n",
    "    \"143314-1\",\n",
    "    \"144545-9\",\n",
    "    \"144719-7\",\n",
    "    \"144264-4\",\n",
    "    \"145764-2\",\n",
    "    \"144668-6\",\n",
    "    \"145764-2\",\n",
    "    \"142687-3\",\n",
    "    \"142687-3\",\n",
    "    \"144264-4\",\n",
    "    \"144266-5\",\n",
    "    \"144668-6\",\n",
    "    \"144179-7\",\n",
    "    \"146152-8\",\n",
    "    \"146152-8\",\n",
    "    \"144545-9\",\n",
    "    \"146865-10\",\n",
    "    \"146865-10\",\n",
    "]"
   ]
  },
  {
   "cell_type": "code",
   "execution_count": 26,
   "id": "7aa722cd",
   "metadata": {},
   "outputs": [],
   "source": [
    "hcs_reinternaciones_unicas = set(hcs_reinternaciones)"
   ]
  },
  {
   "cell_type": "code",
   "execution_count": 28,
   "id": "a883dc48",
   "metadata": {},
   "outputs": [
    {
     "data": {
      "text/plain": [
       "11"
      ]
     },
     "execution_count": 28,
     "metadata": {},
     "output_type": "execute_result"
    }
   ],
   "source": [
    "len(hcs_reinternaciones_unicas)"
   ]
  },
  {
   "cell_type": "code",
   "execution_count": 29,
   "id": "2f54052b",
   "metadata": {},
   "outputs": [
    {
     "data": {
      "text/plain": [
       "20"
      ]
     },
     "execution_count": 29,
     "metadata": {},
     "output_type": "execute_result"
    }
   ],
   "source": [
    "len(hcs_reinternaciones)"
   ]
  },
  {
   "cell_type": "code",
   "execution_count": 31,
   "id": "65c404e0",
   "metadata": {},
   "outputs": [
    {
     "data": {
      "text/html": [
       "<div>\n",
       "<style scoped>\n",
       "    .dataframe tbody tr th:only-of-type {\n",
       "        vertical-align: middle;\n",
       "    }\n",
       "\n",
       "    .dataframe tbody tr th {\n",
       "        vertical-align: top;\n",
       "    }\n",
       "\n",
       "    .dataframe thead th {\n",
       "        text-align: right;\n",
       "    }\n",
       "</style>\n",
       "<table border=\"1\" class=\"dataframe\">\n",
       "  <thead>\n",
       "    <tr style=\"text-align: right;\">\n",
       "      <th></th>\n",
       "      <th>hc</th>\n",
       "      <th>ingreso</th>\n",
       "      <th>egreso</th>\n",
       "      <th>se</th>\n",
       "      <th>edad</th>\n",
       "      <th>domicilio_definitivo</th>\n",
       "      <th>es_reinternacion</th>\n",
       "      <th>latitud</th>\n",
       "      <th>longitud</th>\n",
       "    </tr>\n",
       "  </thead>\n",
       "  <tbody>\n",
       "    <tr>\n",
       "      <th>82</th>\n",
       "      <td>144586</td>\n",
       "      <td>2017-08-22</td>\n",
       "      <td>2017-08-29</td>\n",
       "      <td>34.0</td>\n",
       "      <td>5.0</td>\n",
       "      <td>Tecka 2050</td>\n",
       "      <td>True</td>\n",
       "      <td>-42.758968</td>\n",
       "      <td>-65.063648</td>\n",
       "    </tr>\n",
       "    <tr>\n",
       "      <th>83</th>\n",
       "      <td>144874</td>\n",
       "      <td>2017-08-25</td>\n",
       "      <td>2017-08-29</td>\n",
       "      <td>34.0</td>\n",
       "      <td>4.0</td>\n",
       "      <td>Gualjaina 1410</td>\n",
       "      <td>True</td>\n",
       "      <td>-42.761319</td>\n",
       "      <td>-65.061313</td>\n",
       "    </tr>\n",
       "    <tr>\n",
       "      <th>97</th>\n",
       "      <td>145769</td>\n",
       "      <td>2017-10-10</td>\n",
       "      <td>2017-10-12</td>\n",
       "      <td>41.0</td>\n",
       "      <td>4.0</td>\n",
       "      <td>Lago Puelo 1476</td>\n",
       "      <td>True</td>\n",
       "      <td>-42.762029</td>\n",
       "      <td>-65.061269</td>\n",
       "    </tr>\n",
       "    <tr>\n",
       "      <th>100</th>\n",
       "      <td>143367</td>\n",
       "      <td>2017-10-28</td>\n",
       "      <td>2017-10-31</td>\n",
       "      <td>43.0</td>\n",
       "      <td>11.0</td>\n",
       "      <td>Vittorio Martinelli 1230</td>\n",
       "      <td>True</td>\n",
       "      <td>-42.758846</td>\n",
       "      <td>-65.053807</td>\n",
       "    </tr>\n",
       "  </tbody>\n",
       "</table>\n",
       "</div>"
      ],
      "text/plain": [
       "         hc     ingreso      egreso    se  edad      domicilio_definitivo  \\\n",
       "82   144586  2017-08-22  2017-08-29  34.0   5.0                Tecka 2050   \n",
       "83   144874  2017-08-25  2017-08-29  34.0   4.0            Gualjaina 1410   \n",
       "97   145769  2017-10-10  2017-10-12  41.0   4.0           Lago Puelo 1476   \n",
       "100  143367  2017-10-28  2017-10-31  43.0  11.0  Vittorio Martinelli 1230   \n",
       "\n",
       "     es_reinternacion    latitud   longitud  \n",
       "82               True -42.758968 -65.063648  \n",
       "83               True -42.761319 -65.061313  \n",
       "97               True -42.762029 -65.061269  \n",
       "100              True -42.758846 -65.053807  "
      ]
     },
     "execution_count": 31,
     "metadata": {},
     "output_type": "execute_result"
    }
   ],
   "source": [
    "esta_en_ids_unicos = output_df['hc'].isin(hcs_reinternaciones_unicas)\n",
    "es_una_reinternacion = output_df['es_reinternacion'] == True\n",
    "output_df[(~esta_en_ids_unicos) & es_una_reinternacion]"
   ]
  },
  {
   "cell_type": "code",
   "execution_count": 33,
   "id": "c991c8d7",
   "metadata": {},
   "outputs": [
    {
     "data": {
      "text/plain": [
       "array(['144586', '144874', '145769', '143367'], dtype=object)"
      ]
     },
     "execution_count": 33,
     "metadata": {},
     "output_type": "execute_result"
    }
   ],
   "source": [
    "output_df[(~esta_en_ids_unicos) & es_una_reinternacion]['hc'].values"
   ]
  },
  {
   "cell_type": "code",
   "execution_count": 34,
   "id": "e3afa1e1",
   "metadata": {},
   "outputs": [
    {
     "data": {
      "text/html": [
       "<div>\n",
       "<style scoped>\n",
       "    .dataframe tbody tr th:only-of-type {\n",
       "        vertical-align: middle;\n",
       "    }\n",
       "\n",
       "    .dataframe tbody tr th {\n",
       "        vertical-align: top;\n",
       "    }\n",
       "\n",
       "    .dataframe thead th {\n",
       "        text-align: right;\n",
       "    }\n",
       "</style>\n",
       "<table border=\"1\" class=\"dataframe\">\n",
       "  <thead>\n",
       "    <tr style=\"text-align: right;\">\n",
       "      <th></th>\n",
       "      <th>hc</th>\n",
       "      <th>ingreso</th>\n",
       "      <th>egreso</th>\n",
       "      <th>se</th>\n",
       "      <th>edad</th>\n",
       "      <th>domicilio_definitivo</th>\n",
       "      <th>es_reinternacion</th>\n",
       "      <th>latitud</th>\n",
       "      <th>longitud</th>\n",
       "    </tr>\n",
       "  </thead>\n",
       "  <tbody>\n",
       "    <tr>\n",
       "      <th>0</th>\n",
       "      <td>143367</td>\n",
       "      <td>2017-01-06</td>\n",
       "      <td>2017-01-09</td>\n",
       "      <td>1.0</td>\n",
       "      <td>0.63</td>\n",
       "      <td>Manuel Castro 1230</td>\n",
       "      <td>False</td>\n",
       "      <td>-42.759311</td>\n",
       "      <td>-65.055118</td>\n",
       "    </tr>\n",
       "    <tr>\n",
       "      <th>12</th>\n",
       "      <td>144874</td>\n",
       "      <td>2017-05-19</td>\n",
       "      <td>2017-05-20</td>\n",
       "      <td>20.0</td>\n",
       "      <td>1.00</td>\n",
       "      <td>Río Mayo 1510</td>\n",
       "      <td>False</td>\n",
       "      <td>-42.761389</td>\n",
       "      <td>-65.064638</td>\n",
       "    </tr>\n",
       "    <tr>\n",
       "      <th>38</th>\n",
       "      <td>144586</td>\n",
       "      <td>2017-07-13</td>\n",
       "      <td>2017-07-18</td>\n",
       "      <td>28.0</td>\n",
       "      <td>3.00</td>\n",
       "      <td>Simón de Alcazabar 440</td>\n",
       "      <td>False</td>\n",
       "      <td>-42.766273</td>\n",
       "      <td>-65.046370</td>\n",
       "    </tr>\n",
       "    <tr>\n",
       "      <th>77</th>\n",
       "      <td>145769</td>\n",
       "      <td>2017-08-15</td>\n",
       "      <td>2017-08-22</td>\n",
       "      <td>33.0</td>\n",
       "      <td>1.00</td>\n",
       "      <td>Rada Tilly 1280</td>\n",
       "      <td>False</td>\n",
       "      <td>-42.758078</td>\n",
       "      <td>-65.061463</td>\n",
       "    </tr>\n",
       "    <tr>\n",
       "      <th>82</th>\n",
       "      <td>144586</td>\n",
       "      <td>2017-08-22</td>\n",
       "      <td>2017-08-29</td>\n",
       "      <td>34.0</td>\n",
       "      <td>5.00</td>\n",
       "      <td>Tecka 2050</td>\n",
       "      <td>True</td>\n",
       "      <td>-42.758968</td>\n",
       "      <td>-65.063648</td>\n",
       "    </tr>\n",
       "    <tr>\n",
       "      <th>83</th>\n",
       "      <td>144874</td>\n",
       "      <td>2017-08-25</td>\n",
       "      <td>2017-08-29</td>\n",
       "      <td>34.0</td>\n",
       "      <td>4.00</td>\n",
       "      <td>Gualjaina 1410</td>\n",
       "      <td>True</td>\n",
       "      <td>-42.761319</td>\n",
       "      <td>-65.061313</td>\n",
       "    </tr>\n",
       "    <tr>\n",
       "      <th>97</th>\n",
       "      <td>145769</td>\n",
       "      <td>2017-10-10</td>\n",
       "      <td>2017-10-12</td>\n",
       "      <td>41.0</td>\n",
       "      <td>4.00</td>\n",
       "      <td>Lago Puelo 1476</td>\n",
       "      <td>True</td>\n",
       "      <td>-42.762029</td>\n",
       "      <td>-65.061269</td>\n",
       "    </tr>\n",
       "    <tr>\n",
       "      <th>100</th>\n",
       "      <td>143367</td>\n",
       "      <td>2017-10-28</td>\n",
       "      <td>2017-10-31</td>\n",
       "      <td>43.0</td>\n",
       "      <td>11.00</td>\n",
       "      <td>Vittorio Martinelli 1230</td>\n",
       "      <td>True</td>\n",
       "      <td>-42.758846</td>\n",
       "      <td>-65.053807</td>\n",
       "    </tr>\n",
       "  </tbody>\n",
       "</table>\n",
       "</div>"
      ],
      "text/plain": [
       "         hc     ingreso      egreso    se   edad      domicilio_definitivo  \\\n",
       "0    143367  2017-01-06  2017-01-09   1.0   0.63        Manuel Castro 1230   \n",
       "12   144874  2017-05-19  2017-05-20  20.0   1.00             Río Mayo 1510   \n",
       "38   144586  2017-07-13  2017-07-18  28.0   3.00    Simón de Alcazabar 440   \n",
       "77   145769  2017-08-15  2017-08-22  33.0   1.00           Rada Tilly 1280   \n",
       "82   144586  2017-08-22  2017-08-29  34.0   5.00                Tecka 2050   \n",
       "83   144874  2017-08-25  2017-08-29  34.0   4.00            Gualjaina 1410   \n",
       "97   145769  2017-10-10  2017-10-12  41.0   4.00           Lago Puelo 1476   \n",
       "100  143367  2017-10-28  2017-10-31  43.0  11.00  Vittorio Martinelli 1230   \n",
       "\n",
       "     es_reinternacion    latitud   longitud  \n",
       "0               False -42.759311 -65.055118  \n",
       "12              False -42.761389 -65.064638  \n",
       "38              False -42.766273 -65.046370  \n",
       "77              False -42.758078 -65.061463  \n",
       "82               True -42.758968 -65.063648  \n",
       "83               True -42.761319 -65.061313  \n",
       "97               True -42.762029 -65.061269  \n",
       "100              True -42.758846 -65.053807  "
      ]
     },
     "execution_count": 34,
     "metadata": {},
     "output_type": "execute_result"
    }
   ],
   "source": [
    "output_df[output_df['hc'].isin(['144586', '144874', '145769', '143367'])]"
   ]
  },
  {
   "cell_type": "code",
   "execution_count": null,
   "id": "f48ed898",
   "metadata": {},
   "outputs": [],
   "source": [
    "144586 # Simón de Alcazabar 440 x Tecka 2050\n",
    "\n",
    "144874 # cambio de domicilio (pareceria reinternación) -> usar Río Mayo 1510 en lugar de Gualjaina 1410\n",
    "\n",
    "145769 # usar Rada Tilly 1280 en lugar de Lago Puelo 1476\n",
    "\n",
    "143367 # Manuel Castro 1230 en lugar de Vittorio Martinelli 1230"
   ]
  },
  {
   "cell_type": "code",
   "execution_count": 42,
   "id": "bb67d109",
   "metadata": {},
   "outputs": [
    {
     "data": {
      "text/html": [
       "<div>\n",
       "<style scoped>\n",
       "    .dataframe tbody tr th:only-of-type {\n",
       "        vertical-align: middle;\n",
       "    }\n",
       "\n",
       "    .dataframe tbody tr th {\n",
       "        vertical-align: top;\n",
       "    }\n",
       "\n",
       "    .dataframe thead th {\n",
       "        text-align: right;\n",
       "    }\n",
       "</style>\n",
       "<table border=\"1\" class=\"dataframe\">\n",
       "  <thead>\n",
       "    <tr style=\"text-align: right;\">\n",
       "      <th></th>\n",
       "      <th>domicilio_definitivo</th>\n",
       "      <th>latitud</th>\n",
       "      <th>longitud</th>\n",
       "    </tr>\n",
       "  </thead>\n",
       "  <tbody>\n",
       "    <tr>\n",
       "      <th>19</th>\n",
       "      <td>Simón de Alcazabar 440</td>\n",
       "      <td>-42.766273</td>\n",
       "      <td>-65.04637</td>\n",
       "    </tr>\n",
       "  </tbody>\n",
       "</table>\n",
       "</div>"
      ],
      "text/plain": [
       "      domicilio_definitivo    latitud  longitud\n",
       "19  Simón de Alcazabar 440 -42.766273 -65.04637"
      ]
     },
     "execution_count": 42,
     "metadata": {},
     "output_type": "execute_result"
    }
   ],
   "source": [
    "df_domicilios.loc[df_domicilios['domicilio_definitivo'] == \"Simón de Alcazabar 440\", ]"
   ]
  },
  {
   "cell_type": "code",
   "execution_count": 47,
   "id": "19da4b4e",
   "metadata": {},
   "outputs": [],
   "source": [
    "df.loc[df['domicilio_definitivo'] == \"Tecka 2050\", \"domicilio_definitivo\"] = \"Simón de Alcazabar 440\"\n",
    "\n",
    "print(df.loc[df['domicilio_definitivo'] == \"Gualjaina 1410\",])\n",
    "\n",
    "df.loc[df['domicilio_definitivo'] == \"Gualjaina 1410\", \"domicilio_definitivo\"] = \"Río Mayo 1510\"\n",
    "\n",
    "print(df.loc[df['domicilio_definitivo'] == \"Gualjaina 1410\",])\n",
    "\n",
    "print(df.loc[df['domicilio_definitivo'] == \"Lago Puelo 1476\",])\n",
    "\n",
    "df.loc[df['domicilio_definitivo'] == \"Lago Puelo 1476\", \"domicilio_definitivo\"] = \"Rada Tilly 1280\"\n",
    "\n",
    "print(df.loc[df['domicilio_definitivo'] == \"Lago Puelo 1476\",])\n",
    "\n",
    "print(df.loc[df['domicilio_definitivo'] == \"Vittorio Martinelli 1230\",])\n",
    "\n",
    "df.loc[df['domicilio_definitivo'] == \"Vittorio Martinelli 1230\", \"domicilio_definitivo\"] = \"Manuel Castro 1230\"\n",
    "\n",
    "print(len(df.loc[df['domicilio_definitivo'] == \"Vittorio Martinelli 1230\",]))"
   ]
  },
  {
   "cell_type": "code",
   "execution_count": 54,
   "id": "570d6541",
   "metadata": {},
   "outputs": [
    {
     "data": {
      "text/html": [
       "<div>\n",
       "<style scoped>\n",
       "    .dataframe tbody tr th:only-of-type {\n",
       "        vertical-align: middle;\n",
       "    }\n",
       "\n",
       "    .dataframe tbody tr th {\n",
       "        vertical-align: top;\n",
       "    }\n",
       "\n",
       "    .dataframe thead th {\n",
       "        text-align: right;\n",
       "    }\n",
       "</style>\n",
       "<table border=\"1\" class=\"dataframe\">\n",
       "  <thead>\n",
       "    <tr style=\"text-align: right;\">\n",
       "      <th></th>\n",
       "      <th>hc</th>\n",
       "      <th>ingreso</th>\n",
       "      <th>egreso</th>\n",
       "      <th>se</th>\n",
       "      <th>edad</th>\n",
       "      <th>domicilio_definitivo</th>\n",
       "      <th>es_reinternacion</th>\n",
       "      <th>latitud</th>\n",
       "      <th>longitud</th>\n",
       "    </tr>\n",
       "  </thead>\n",
       "  <tbody>\n",
       "    <tr>\n",
       "      <th>5</th>\n",
       "      <td>143314-1</td>\n",
       "      <td>2017-04-15</td>\n",
       "      <td>2017-04-18</td>\n",
       "      <td>15.0</td>\n",
       "      <td>4.0</td>\n",
       "      <td>Esteban Williams 812</td>\n",
       "      <td>False</td>\n",
       "      <td>-42.783971</td>\n",
       "      <td>-65.065442</td>\n",
       "    </tr>\n",
       "    <tr>\n",
       "      <th>9</th>\n",
       "      <td>143314-1</td>\n",
       "      <td>2017-05-02</td>\n",
       "      <td>2017-05-16</td>\n",
       "      <td>18.0</td>\n",
       "      <td>4.0</td>\n",
       "      <td>Ruperto Gimenez 720</td>\n",
       "      <td>True</td>\n",
       "      <td>-42.784649</td>\n",
       "      <td>-65.070284</td>\n",
       "    </tr>\n",
       "  </tbody>\n",
       "</table>\n",
       "</div>"
      ],
      "text/plain": [
       "         hc     ingreso      egreso    se  edad  domicilio_definitivo  \\\n",
       "5  143314-1  2017-04-15  2017-04-18  15.0   4.0  Esteban Williams 812   \n",
       "9  143314-1  2017-05-02  2017-05-16  18.0   4.0   Ruperto Gimenez 720   \n",
       "\n",
       "   es_reinternacion    latitud   longitud  \n",
       "5             False -42.783971 -65.065442  \n",
       "9              True -42.784649 -65.070284  "
      ]
     },
     "execution_count": 54,
     "metadata": {},
     "output_type": "execute_result"
    }
   ],
   "source": [
    "output_df[output_df['hc'] == \"143314-1\"]"
   ]
  },
  {
   "cell_type": "code",
   "execution_count": 55,
   "id": "98629ea1",
   "metadata": {},
   "outputs": [
    {
     "data": {
      "text/html": [
       "<div>\n",
       "<style scoped>\n",
       "    .dataframe tbody tr th:only-of-type {\n",
       "        vertical-align: middle;\n",
       "    }\n",
       "\n",
       "    .dataframe tbody tr th {\n",
       "        vertical-align: top;\n",
       "    }\n",
       "\n",
       "    .dataframe thead th {\n",
       "        text-align: right;\n",
       "    }\n",
       "</style>\n",
       "<table border=\"1\" class=\"dataframe\">\n",
       "  <thead>\n",
       "    <tr style=\"text-align: right;\">\n",
       "      <th></th>\n",
       "      <th>hc</th>\n",
       "      <th>ingreso</th>\n",
       "      <th>egreso</th>\n",
       "      <th>se</th>\n",
       "      <th>edad</th>\n",
       "      <th>domicilio_definitivo</th>\n",
       "      <th>es_reinternacion</th>\n",
       "      <th>latitud</th>\n",
       "      <th>longitud</th>\n",
       "    </tr>\n",
       "  </thead>\n",
       "  <tbody>\n",
       "    <tr>\n",
       "      <th>25</th>\n",
       "      <td>145764-2</td>\n",
       "      <td>2017-06-26</td>\n",
       "      <td>2017-06-28</td>\n",
       "      <td>26.0</td>\n",
       "      <td>0.6</td>\n",
       "      <td>Trevellin 1510</td>\n",
       "      <td>False</td>\n",
       "      <td>-42.761119</td>\n",
       "      <td>-65.061504</td>\n",
       "    </tr>\n",
       "    <tr>\n",
       "      <th>40</th>\n",
       "      <td>145764-2</td>\n",
       "      <td>2017-07-14</td>\n",
       "      <td>2017-07-16</td>\n",
       "      <td>28.0</td>\n",
       "      <td>1.0</td>\n",
       "      <td>Rio Pico 1710</td>\n",
       "      <td>True</td>\n",
       "      <td>-42.757520</td>\n",
       "      <td>-65.060710</td>\n",
       "    </tr>\n",
       "  </tbody>\n",
       "</table>\n",
       "</div>"
      ],
      "text/plain": [
       "          hc     ingreso      egreso    se  edad domicilio_definitivo  \\\n",
       "25  145764-2  2017-06-26  2017-06-28  26.0   0.6       Trevellin 1510   \n",
       "40  145764-2  2017-07-14  2017-07-16  28.0   1.0        Rio Pico 1710   \n",
       "\n",
       "    es_reinternacion    latitud   longitud  \n",
       "25             False -42.761119 -65.061504  \n",
       "40              True -42.757520 -65.060710  "
      ]
     },
     "execution_count": 55,
     "metadata": {},
     "output_type": "execute_result"
    }
   ],
   "source": [
    "output_df[output_df['hc'] == \"145764-2\"]"
   ]
  },
  {
   "cell_type": "code",
   "execution_count": null,
   "id": "6dd1ce5e",
   "metadata": {},
   "outputs": [],
   "source": []
  }
 ],
 "metadata": {
  "kernelspec": {
   "display_name": "Python 3 (ipykernel)",
   "language": "python",
   "name": "python3"
  },
  "language_info": {
   "codemirror_mode": {
    "name": "ipython",
    "version": 3
   },
   "file_extension": ".py",
   "mimetype": "text/x-python",
   "name": "python",
   "nbconvert_exporter": "python",
   "pygments_lexer": "ipython3",
   "version": "3.9.9"
  }
 },
 "nbformat": 4,
 "nbformat_minor": 5
}
